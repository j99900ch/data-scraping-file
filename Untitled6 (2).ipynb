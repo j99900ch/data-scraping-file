{
 "cells": [
  {
   "cell_type": "markdown",
   "id": "7ba93503",
   "metadata": {},
   "source": [
    "# Scraping the details from youtube channels:"
   ]
  },
  {
   "cell_type": "code",
   "execution_count": 1,
   "id": "4f2dc106",
   "metadata": {},
   "outputs": [
    {
     "name": "stdout",
     "output_type": "stream",
     "text": [
      "Requirement already satisfied: selenium in c:\\users\\dell\\anaconda3\\lib\\site-packages (4.8.2)\n",
      "Requirement already satisfied: trio~=0.17 in c:\\users\\dell\\anaconda3\\lib\\site-packages (from selenium) (0.22.0)\n",
      "Requirement already satisfied: certifi>=2021.10.8 in c:\\users\\dell\\anaconda3\\lib\\site-packages (from selenium) (2022.9.14)\n",
      "Requirement already satisfied: urllib3[socks]~=1.26 in c:\\users\\dell\\anaconda3\\lib\\site-packages (from selenium) (1.26.11)\n",
      "Requirement already satisfied: trio-websocket~=0.9 in c:\\users\\dell\\anaconda3\\lib\\site-packages (from selenium) (0.10.2)\n",
      "Requirement already satisfied: idna in c:\\users\\dell\\anaconda3\\lib\\site-packages (from trio~=0.17->selenium) (3.3)\n",
      "Requirement already satisfied: attrs>=19.2.0 in c:\\users\\dell\\anaconda3\\lib\\site-packages (from trio~=0.17->selenium) (21.4.0)\n",
      "Requirement already satisfied: exceptiongroup>=1.0.0rc9 in c:\\users\\dell\\anaconda3\\lib\\site-packages (from trio~=0.17->selenium) (1.1.1)\n",
      "Requirement already satisfied: sniffio in c:\\users\\dell\\anaconda3\\lib\\site-packages (from trio~=0.17->selenium) (1.2.0)\n",
      "Requirement already satisfied: sortedcontainers in c:\\users\\dell\\anaconda3\\lib\\site-packages (from trio~=0.17->selenium) (2.4.0)\n",
      "Requirement already satisfied: cffi>=1.14 in c:\\users\\dell\\anaconda3\\lib\\site-packages (from trio~=0.17->selenium) (1.15.1)\n",
      "Requirement already satisfied: outcome in c:\\users\\dell\\anaconda3\\lib\\site-packages (from trio~=0.17->selenium) (1.2.0)\n",
      "Requirement already satisfied: async-generator>=1.9 in c:\\users\\dell\\anaconda3\\lib\\site-packages (from trio~=0.17->selenium) (1.10)\n",
      "Requirement already satisfied: wsproto>=0.14 in c:\\users\\dell\\anaconda3\\lib\\site-packages (from trio-websocket~=0.9->selenium) (1.2.0)\n",
      "Requirement already satisfied: PySocks!=1.5.7,<2.0,>=1.5.6 in c:\\users\\dell\\anaconda3\\lib\\site-packages (from urllib3[socks]~=1.26->selenium) (1.7.1)\n",
      "Requirement already satisfied: pycparser in c:\\users\\dell\\anaconda3\\lib\\site-packages (from cffi>=1.14->trio~=0.17->selenium) (2.21)\n",
      "Requirement already satisfied: h11<1,>=0.9.0 in c:\\users\\dell\\anaconda3\\lib\\site-packages (from wsproto>=0.14->trio-websocket~=0.9->selenium) (0.14.0)\n"
     ]
    }
   ],
   "source": [
    "#install pip libraries\n",
    "!pip install selenium"
   ]
  },
  {
   "cell_type": "code",
   "execution_count": 2,
   "id": "b1e45baa",
   "metadata": {},
   "outputs": [],
   "source": [
    "# import the libraries\n",
    "import pandas as pd\n",
    "import requests\n",
    "import selenium\n",
    "from selenium import webdriver\n",
    "import warnings\n",
    "warnings.filterwarnings('ignore')\n",
    "from selenium.webdriver.common.by import By\n",
    "import time\n",
    "from selenium.common.exceptions import NoSuchElementException"
   ]
  },
  {
   "cell_type": "markdown",
   "id": "aa3238f6",
   "metadata": {},
   "source": [
    "# sadguru channel on youtube:"
   ]
  },
  {
   "cell_type": "code",
   "execution_count": 342,
   "id": "25f55f3f",
   "metadata": {},
   "outputs": [],
   "source": [
    "#let's gt connect to the driver\n",
    "driver=webdriver.Chrome(r\"C:\\Users\\md\\Downloads\\chromedriver_win32(1)\\Chromedriver.exe\")\n",
    "driver.get(\"https://www.youtube.com/channel/UCcYzLCs3zrQIBVHYA1sK2sw\")"
   ]
  },
  {
   "cell_type": "code",
   "execution_count": 343,
   "id": "d456eb35",
   "metadata": {},
   "outputs": [],
   "source": [
    "# make a empty dataframe:\n",
    "video_name = []\n",
    "upload_date = []\n",
    "video_views = []\n",
    "videos = []\n",
    "images = []"
   ]
  },
  {
   "cell_type": "code",
   "execution_count": 344,
   "id": "2d3ef712",
   "metadata": {},
   "outputs": [],
   "source": [
    "#Scrapping video_name from the given page\n",
    "name_tags=driver.find_elements(By.XPATH,\"//a[@class='yt-simple-endpoint style-scope yt-formatted-string']\")\n",
    "for i in name_tags[1:15]:\n",
    "    name=i.text\n",
    "    video_name.append(name)\n",
    "    \n",
    "#Scrapping video_views from the given page\n",
    "views_tags=driver.find_elements(By.XPATH,\"//span[@class='inline-metadata-item style-scope ytd-video-meta-block']\")\n",
    "for i in views_tags[1:15]:\n",
    "    views=i.text\n",
    "    video_views.append(views)\n",
    "\n",
    "#Scrapping upload_date from the given page\n",
    "date_tags=driver.find_elements(By.XPATH,\"//span[@class='inline-metadata-item style-scope ytd-video-meta-block']\")\n",
    "for i in date_tags[1:15]:\n",
    "    date=i.text\n",
    "    upload_date.append(date)\n",
    "#Scraping video COUNTINGS from the given page:\n",
    "video_tags=driver.find_elements(By.XPATH,\"//span[@class='style-scope yt-formatted-string']\")\n",
    "for i in video_tags[1:15]:\n",
    "    video=i.text\n",
    "    videos.append(video)\n",
    "#Scarping image from the given page:   \n",
    "image_tags=driver.find_elements(By.XPATH,\"//div[@class='ytp-cued-thumbnail-overlay-image']\")\n",
    "for i in image_tags[1:15]:\n",
    "    image=i.text\n",
    "    images.append(image)"
   ]
  },
  {
   "cell_type": "code",
   "execution_count": 345,
   "id": "68994212",
   "metadata": {},
   "outputs": [
    {
     "data": {
      "text/plain": [
       "1"
      ]
     },
     "execution_count": 345,
     "metadata": {},
     "output_type": "execute_result"
    }
   ],
   "source": [
    "#checking length:\n",
    "\n",
    "len(video_name)\n",
    "len(upload_date) \n",
    "len(video_views) \n",
    "len(videos)\n",
    "len(images)"
   ]
  },
  {
   "cell_type": "code",
   "execution_count": 346,
   "id": "56e0b7fa",
   "metadata": {},
   "outputs": [
    {
     "data": {
      "text/plain": [
       "14"
      ]
     },
     "execution_count": 346,
     "metadata": {},
     "output_type": "execute_result"
    }
   ],
   "source": [
    "#checking length:\n",
    "len(video_name)"
   ]
  },
  {
   "cell_type": "code",
   "execution_count": 347,
   "id": "426a2ef4",
   "metadata": {},
   "outputs": [
    {
     "data": {
      "text/plain": [
       "1"
      ]
     },
     "execution_count": 347,
     "metadata": {},
     "output_type": "execute_result"
    }
   ],
   "source": [
    "#checking video_views:\n",
    "len(video_views)"
   ]
  },
  {
   "cell_type": "code",
   "execution_count": 348,
   "id": "e6656380",
   "metadata": {},
   "outputs": [
    {
     "data": {
      "text/plain": [
       "1"
      ]
     },
     "execution_count": 348,
     "metadata": {},
     "output_type": "execute_result"
    }
   ],
   "source": [
    "#checking upload_date:\n",
    "len(upload_date)"
   ]
  },
  {
   "cell_type": "code",
   "execution_count": 349,
   "id": "64050aa6",
   "metadata": {},
   "outputs": [
    {
     "data": {
      "text/plain": [
       "8"
      ]
     },
     "execution_count": 349,
     "metadata": {},
     "output_type": "execute_result"
    }
   ],
   "source": [
    "#checking videos:\n",
    "len(videos)"
   ]
  },
  {
   "cell_type": "code",
   "execution_count": 350,
   "id": "d0efff9b",
   "metadata": {},
   "outputs": [
    {
     "data": {
      "text/plain": [
       "1"
      ]
     },
     "execution_count": 350,
     "metadata": {},
     "output_type": "execute_result"
    }
   ],
   "source": [
    "#checking images:                                \n",
    "len(images)"
   ]
  },
  {
   "cell_type": "code",
   "execution_count": 351,
   "id": "927866a3",
   "metadata": {},
   "outputs": [
    {
     "name": "stdout",
     "output_type": "stream",
     "text": [
      "['#rrr', '#natunatu', '#mmkeeravani', '#oscars', '#sadhguru', '', '', '', 'READ MORE', 'Sadhguru', 'Sadhguru', 'Sadhguru', 'Sadhguru', '']\n",
      "['7 days ago']\n",
      "['7 days ago']\n",
      "['videos', ' ', ' ', ' ', ' ', ' \\n\\nIn September 2017, during the Hyderabad leg of the Rally for Rivers journey, music composer MM Keeravani engaged in a captivating conversation with Sadhguru, exploring a wide range of topics.\\n\\nOfficial YouTube Channel of Sadhguru\\n\\nConsidered among India’s 50 most influential people, Sadhguru is a yogi, mystic, bestselling author, and poet. Absolute clarity of perception places him in a unique space, not only in matters spiritual but in business, environmental and international affairs, and opens a new door on all that he touches.\\n\\nInner Engineering \\n\\nInner Engineering is a comprehensive course for personal growth that brings about a shift in the way you perceive and experience your life, your work, and the world that you live in.', '', '']\n",
      "['']\n"
     ]
    }
   ],
   "source": [
    "#Checking views,upload_date,name:\n",
    "print(video_name)\n",
    "print(video_views)\n",
    "print(upload_date)\n",
    "print(videos)\n",
    "print(images)"
   ]
  },
  {
   "cell_type": "code",
   "execution_count": 354,
   "id": "56a79bfd",
   "metadata": {},
   "outputs": [],
   "source": [
    "#make a dataframe:\n",
    "data=pd.DataFrame()\n",
    "data['Video_views']=video_views\n",
    "data['Upload_date']=upload_date\n",
    "data['Images']=images"
   ]
  },
  {
   "cell_type": "markdown",
   "id": "d35d8414",
   "metadata": {},
   "source": [
    "# Khan Sir GS Youtube Channel: Data Scraping of youtube vedios (video_names,video_views,upload_date)"
   ]
  },
  {
   "cell_type": "code",
   "execution_count": 355,
   "id": "5949b785",
   "metadata": {},
   "outputs": [],
   "source": [
    "#let's get connect to the webdriver\n",
    "driver=webdriver.Chrome(r\"C:\\Users\\md\\Downloads\\chromedriver_win32(1)\\Chromedriver.exe\")\n",
    "url = (\"https://www.youtube.com/channel/UCatL-c6pmnjzEOHSyjn-sHA\")\n",
    "driver.get(url)"
   ]
  },
  {
   "cell_type": "code",
   "execution_count": 356,
   "id": "09014bb4",
   "metadata": {},
   "outputs": [
    {
     "name": "stdout",
     "output_type": "stream",
     "text": [
      "Website\n"
     ]
    }
   ],
   "source": [
    "# scrap Search element:\n",
    "try:\n",
    "    element=driver.find_element(By.CLASS_NAME,\"container\")\n",
    "    print(element.text)\n",
    "except NoSuchElementException as e:\n",
    "    #print('Exception on Raised as\", e)\n",
    "    element=driver.find_element(By.CLASS_NAME,\"search\")\n",
    "    print(element.text)\n",
    "    driver.find_element(By.XPATH,'//[@class=\"search-container\"]').send_keys(\"khan sir youtube channel\")\n",
    "    time.sleep(2)"
   ]
  },
  {
   "cell_type": "code",
   "execution_count": 357,
   "id": "fe64a3b8",
   "metadata": {},
   "outputs": [],
   "source": [
    "# make a empty dataframe:\n",
    "name = []\n",
    "views = []\n",
    "upload_date = []"
   ]
  },
  {
   "cell_type": "code",
   "execution_count": 358,
   "id": "d9eac78f",
   "metadata": {},
   "outputs": [],
   "source": [
    "#Scraping name from the given page:\n",
    "name_tags=driver.find_elements(By.XPATH,\"//span[@class='style-scope yt-formatted-string']\")\n",
    "for i in name_tags[1:15]:\n",
    "    name=i.text\n",
    "    video_name.append(name)\n",
    "\n",
    "#Scraping views from the given page:\n",
    "views_tags=driver.find_elements(By.XPATH,\"//span[@class='style-scope ytd-grid-video-renderer']\")\n",
    "for i in views_tags[1:15]:\n",
    "    views=i.text\n",
    "    video_views.append(views)\n",
    "\n",
    "#Scrapping upload_date from the given page:\n",
    "date_tags=driver.find_elements(By.XPATH,\"//span[@class='style-scope ytd-grid-video-renderer']\")\n",
    "for i in date_tags[1:15]:\n",
    "    date=i.text\n",
    "    upload_date.append(date)"
   ]
  },
  {
   "cell_type": "code",
   "execution_count": 359,
   "id": "ef97d2ab",
   "metadata": {},
   "outputs": [
    {
     "data": {
      "text/plain": [
       "(15,\n",
       " ['7 days ago',\n",
       "  '1 day ago',\n",
       "  '1.5M views',\n",
       "  '3 days ago',\n",
       "  '2.2M views',\n",
       "  '4 days ago',\n",
       "  '4.1M views',\n",
       "  '6 days ago',\n",
       "  '3.7M views',\n",
       "  '8 days ago',\n",
       "  '4.9M views',\n",
       "  '1 month ago',\n",
       "  '54M views',\n",
       "  '2 years ago',\n",
       "  '46M views'],\n",
       " ['1 day ago',\n",
       "  '1.5M views',\n",
       "  '3 days ago',\n",
       "  '2.2M views',\n",
       "  '4 days ago',\n",
       "  '4.1M views',\n",
       "  '6 days ago',\n",
       "  '3.7M views',\n",
       "  '8 days ago',\n",
       "  '4.9M views',\n",
       "  '1 month ago',\n",
       "  '54M views',\n",
       "  '2 years ago',\n",
       "  '46M views'])"
      ]
     },
     "execution_count": 359,
     "metadata": {},
     "output_type": "execute_result"
    }
   ],
   "source": [
    "#Checking length :\n",
    "len(video_name),(video_views),(upload_date)"
   ]
  },
  {
   "cell_type": "code",
   "execution_count": 360,
   "id": "3fb8918a",
   "metadata": {},
   "outputs": [
    {
     "data": {
      "text/plain": [
       "15"
      ]
     },
     "execution_count": 360,
     "metadata": {},
     "output_type": "execute_result"
    }
   ],
   "source": [
    "#checking len of video_name :\n",
    "len(video_name)"
   ]
  },
  {
   "cell_type": "code",
   "execution_count": 361,
   "id": "f5362048",
   "metadata": {},
   "outputs": [
    {
     "data": {
      "text/plain": [
       "15"
      ]
     },
     "execution_count": 361,
     "metadata": {},
     "output_type": "execute_result"
    }
   ],
   "source": [
    "# checking len of video_views:\n",
    "len(video_views)"
   ]
  },
  {
   "cell_type": "code",
   "execution_count": 370,
   "id": "ac50674b",
   "metadata": {},
   "outputs": [
    {
     "data": {
      "text/plain": [
       "14"
      ]
     },
     "execution_count": 370,
     "metadata": {},
     "output_type": "execute_result"
    }
   ],
   "source": [
    "#checking len of upload_date:\n",
    "len(upload_date)"
   ]
  },
  {
   "cell_type": "code",
   "execution_count": 363,
   "id": "fd6627aa",
   "metadata": {},
   "outputs": [
    {
     "name": "stdout",
     "output_type": "stream",
     "text": [
      "['#rrr', '#natunatu', '#mmkeeravani', '#oscars', '#sadhguru', '', '', '', 'READ MORE', 'Sadhguru', 'Sadhguru', 'Sadhguru', 'Sadhguru', '', 'videos']\n"
     ]
    }
   ],
   "source": [
    "# cheking details:\n",
    "print(video_name)"
   ]
  },
  {
   "cell_type": "code",
   "execution_count": 364,
   "id": "0d5650b8",
   "metadata": {},
   "outputs": [
    {
     "name": "stdout",
     "output_type": "stream",
     "text": [
      "['7 days ago', '1 day ago', '1.5M views', '3 days ago', '2.2M views', '4 days ago', '4.1M views', '6 days ago', '3.7M views', '8 days ago', '4.9M views', '1 month ago', '54M views', '2 years ago', '46M views']\n"
     ]
    }
   ],
   "source": [
    "#checking details:\n",
    "print(video_views)"
   ]
  },
  {
   "cell_type": "code",
   "execution_count": 365,
   "id": "acd20b04",
   "metadata": {},
   "outputs": [
    {
     "name": "stdout",
     "output_type": "stream",
     "text": [
      "['1 day ago', '1.5M views', '3 days ago', '2.2M views', '4 days ago', '4.1M views', '6 days ago', '3.7M views', '8 days ago', '4.9M views', '1 month ago', '54M views', '2 years ago', '46M views']\n"
     ]
    }
   ],
   "source": [
    "#checking details:\n",
    "print(upload_date)"
   ]
  },
  {
   "cell_type": "code",
   "execution_count": 467,
   "id": "d98e34a6",
   "metadata": {},
   "outputs": [
    {
     "data": {
      "text/html": [
       "<div>\n",
       "<style scoped>\n",
       "    .dataframe tbody tr th:only-of-type {\n",
       "        vertical-align: middle;\n",
       "    }\n",
       "\n",
       "    .dataframe tbody tr th {\n",
       "        vertical-align: top;\n",
       "    }\n",
       "\n",
       "    .dataframe thead th {\n",
       "        text-align: right;\n",
       "    }\n",
       "</style>\n",
       "<table border=\"1\" class=\"dataframe\">\n",
       "  <thead>\n",
       "    <tr style=\"text-align: right;\">\n",
       "      <th></th>\n",
       "      <th>Video_name</th>\n",
       "      <th>Video_views</th>\n",
       "    </tr>\n",
       "  </thead>\n",
       "  <tbody>\n",
       "    <tr>\n",
       "      <th>0</th>\n",
       "      <td>Title</td>\n",
       "      <td>1 day ago</td>\n",
       "    </tr>\n",
       "    <tr>\n",
       "      <th>1</th>\n",
       "      <td>Uploader / artist</td>\n",
       "      <td>1.4M views</td>\n",
       "    </tr>\n",
       "    <tr>\n",
       "      <th>2</th>\n",
       "      <td>Platform</td>\n",
       "      <td>2 months ago</td>\n",
       "    </tr>\n",
       "    <tr>\n",
       "      <th>3</th>\n",
       "      <td>Views[a]\\n(millions)</td>\n",
       "      <td>63K views</td>\n",
       "    </tr>\n",
       "    <tr>\n",
       "      <th>4</th>\n",
       "      <td>Release date</td>\n",
       "      <td>2 months ago</td>\n",
       "    </tr>\n",
       "    <tr>\n",
       "      <th>5</th>\n",
       "      <td>Rank</td>\n",
       "      <td>4K views</td>\n",
       "    </tr>\n",
       "    <tr>\n",
       "      <th>6</th>\n",
       "      <td>Title</td>\n",
       "      <td>7 months ago</td>\n",
       "    </tr>\n",
       "    <tr>\n",
       "      <th>7</th>\n",
       "      <td>Artist</td>\n",
       "      <td>728K views</td>\n",
       "    </tr>\n",
       "    <tr>\n",
       "      <th>8</th>\n",
       "      <td>Platform</td>\n",
       "      <td>3 weeks ago</td>\n",
       "    </tr>\n",
       "    <tr>\n",
       "      <th>9</th>\n",
       "      <td>Views[a]\\n(millions)</td>\n",
       "      <td>31K views</td>\n",
       "    </tr>\n",
       "    <tr>\n",
       "      <th>10</th>\n",
       "      <td>Release date</td>\n",
       "      <td>6 days ago</td>\n",
       "    </tr>\n",
       "    <tr>\n",
       "      <th>11</th>\n",
       "      <td>Title</td>\n",
       "      <td>12M views</td>\n",
       "    </tr>\n",
       "    <tr>\n",
       "      <th>12</th>\n",
       "      <td>Artist</td>\n",
       "      <td>3 months ago</td>\n",
       "    </tr>\n",
       "    <tr>\n",
       "      <th>13</th>\n",
       "      <td>Views[a]\\n(millions)</td>\n",
       "      <td>25K views</td>\n",
       "    </tr>\n",
       "  </tbody>\n",
       "</table>\n",
       "</div>"
      ],
      "text/plain": [
       "              Video_name   Video_views\n",
       "0                  Title     1 day ago\n",
       "1      Uploader / artist    1.4M views\n",
       "2               Platform  2 months ago\n",
       "3   Views[a]\\n(millions)     63K views\n",
       "4           Release date  2 months ago\n",
       "5                   Rank      4K views\n",
       "6                  Title  7 months ago\n",
       "7                 Artist    728K views\n",
       "8               Platform   3 weeks ago\n",
       "9   Views[a]\\n(millions)     31K views\n",
       "10          Release date    6 days ago\n",
       "11                 Title     12M views\n",
       "12                Artist  3 months ago\n",
       "13  Views[a]\\n(millions)     25K views"
      ]
     },
     "execution_count": 467,
     "metadata": {},
     "output_type": "execute_result"
    }
   ],
   "source": [
    "#make a dataframe:\n",
    "data=pd.DataFrame()\n",
    "data['Video_name']=video_name\n",
    "data['Video_views']=video_views\n",
    "data"
   ]
  },
  {
   "cell_type": "markdown",
   "id": "a07558fb",
   "metadata": {},
   "source": [
    "# dance video youtube channel (scraping data -name,views,upload_date)"
   ]
  },
  {
   "cell_type": "code",
   "execution_count": 443,
   "id": "e69f507e",
   "metadata": {},
   "outputs": [],
   "source": [
    "#let's get connect to the webdriver\n",
    "driver=webdriver.Chrome(r\"C:\\Us ers\\md\\Downloads\\chromedriver_win32(1)\\Chromedriver.exe\")"
   ]
  },
  {
   "cell_type": "code",
   "execution_count": 444,
   "id": "d5e72287",
   "metadata": {},
   "outputs": [],
   "source": [
    "url = \"https://www.youtube.com/hashtag/shortsdance\""
   ]
  },
  {
   "cell_type": "code",
   "execution_count": 445,
   "id": "727198fe",
   "metadata": {},
   "outputs": [],
   "source": [
    "driver.get(url)"
   ]
  },
  {
   "cell_type": "code",
   "execution_count": 454,
   "id": "5eb83357",
   "metadata": {},
   "outputs": [],
   "source": [
    "# make a empty dataframe:\n",
    "video_names = []\n",
    "video_views = []\n",
    "upload_date = []\n",
    "video_Likes = []"
   ]
  },
  {
   "cell_type": "code",
   "execution_count": 457,
   "id": "c1b650d4",
   "metadata": {},
   "outputs": [],
   "source": [
    "#Scraping name from the given page:\n",
    "name_tags=driver.find_elements(By.XPATH,\"//a[@class='yt-simple-endpoint focus-on-expand style-scope ytd-rich-grid-media']\")\n",
    "for i in name_tags[1:15]:\n",
    "    name=i.text\n",
    "    video_names.append(name)\n",
    "\n",
    "#Scraping views from the given page:\n",
    "views_tags=driver.find_elements(By.XPATH,\"//span[@class='inline-metadata-item style-scope ytd-video-meta-block']\")\n",
    "for i in views_tags[1:15]:\n",
    "    views=i.text\n",
    "    video_views.append(views)\n",
    "\n",
    "#Scrapping upload_date from the given page:\n",
    "date_tags=driver.find_elements(By.XPATH,\"//span[@class='inline-metadata-item style-scope ytd-video-meta-block']\")\n",
    "for i in date_tags[1:15]:\n",
    "    date=i.text\n",
    "    upload_date.append(date)\n"
   ]
  },
  {
   "cell_type": "code",
   "execution_count": 458,
   "id": "bdce7c3c",
   "metadata": {},
   "outputs": [],
   "source": [
    "likes_tags=driver.find_elements(By.XPATH,\"//span[@class='inline-metadata-item style-scope ytd-video-meta-block']\")\n",
    "for i in likes_tags[1:15]:\n",
    "    likes=i.text\n",
    "    video_Likes.append(likes)"
   ]
  },
  {
   "cell_type": "code",
   "execution_count": 459,
   "id": "54958f29",
   "metadata": {},
   "outputs": [
    {
     "name": "stdout",
     "output_type": "stream",
     "text": [
      "['Maar dala viral boys dance|Viral dance|VIRAL boys dance| #viral #shorts #youtubeshorts', '#shorts #shortsdance #2022inshorts #dance #nrityaperformance', '1,2,3..😜 #shorts#shortsdance #tumtec#sitdikova#dance#trend#trenddance', 'sajan ka naam | sapna choudhary | haryanvi song | sangeet dance video | #shorts #nishugujjari', 'Laga laga re | salman khan | bollywood song | viral dance video | #shorts #nishugujjari', 'Jija tu kala main gori ghani | dance performance | #youtubeshorts #shorts #nishugujjari', 'Tu Hath Me Hath Jo De Gaya Dance | Ajay Poptron #shorts', 'ek ladki chahiye khas khas #youtubeshorts #ytshorts #shorts #dance', 'Teri Aakhya Ka Yo Kajal😜🔥 || Haryanvi song dance #shorts #dance #youtubeshorts #haryanvi #trending', 'Patali kamariya mori😘 #shorts #dance #trending #viral', 'Aaye dhule raja | bollywood song | viral dance video | Tarun & Nishu | #shorts', 'Thuli Thuli dance shorts video | #shorts #shortsdance #shortsyoutube #trending#trendingshorts', 'O saki Saki Nora fatehi song dance||#shorts #dancevideo #dance', 'Teri Lat Lag jagi | Haryanvi Dance | Tarun & Nishu | #shorts #trending #youtubeshorts #dance']\n",
      "['1 day ago', '1.4M views', '2 months ago', '63K views', '2 months ago', '4K views', '7 months ago', '728K views', '3 weeks ago', '31K views', '6 days ago', '12M views', '3 months ago', '25K views']\n",
      "['1 day ago', '1.4M views', '2 months ago', '63K views', '2 months ago', '4K views', '7 months ago', '728K views', '3 weeks ago', '31K views', '6 days ago', '12M views', '3 months ago', '25K views']\n",
      "['', '', '', '', '', '', '', '', '', '', '', '', '', '']\n"
     ]
    }
   ],
   "source": [
    "# checking details:\n",
    "print(video_names) \n",
    "print(video_views)\n",
    "print(upload_date)\n",
    "print(video_likes)"
   ]
  },
  {
   "cell_type": "code",
   "execution_count": 449,
   "id": "919d0d37",
   "metadata": {},
   "outputs": [
    {
     "data": {
      "text/plain": [
       "14"
      ]
     },
     "execution_count": 449,
     "metadata": {},
     "output_type": "execute_result"
    }
   ],
   "source": [
    "#checking length\n",
    "len(video_names)"
   ]
  },
  {
   "cell_type": "code",
   "execution_count": 450,
   "id": "53a450ff",
   "metadata": {},
   "outputs": [
    {
     "data": {
      "text/plain": [
       "14"
      ]
     },
     "execution_count": 450,
     "metadata": {},
     "output_type": "execute_result"
    }
   ],
   "source": [
    "#checking views\n",
    "len(video_views)"
   ]
  },
  {
   "cell_type": "code",
   "execution_count": 460,
   "id": "4a961966",
   "metadata": {},
   "outputs": [
    {
     "data": {
      "text/plain": [
       "14"
      ]
     },
     "execution_count": 460,
     "metadata": {},
     "output_type": "execute_result"
    }
   ],
   "source": [
    "#checking upload_date\n",
    "len(upload_date)"
   ]
  },
  {
   "cell_type": "code",
   "execution_count": 464,
   "id": "c903701a",
   "metadata": {},
   "outputs": [
    {
     "data": {
      "text/plain": [
       "28"
      ]
     },
     "execution_count": 464,
     "metadata": {},
     "output_type": "execute_result"
    }
   ],
   "source": [
    "len(video_Likes)"
   ]
  },
  {
   "cell_type": "code",
   "execution_count": 466,
   "id": "419d98e1",
   "metadata": {},
   "outputs": [
    {
     "data": {
      "text/html": [
       "<div>\n",
       "<style scoped>\n",
       "    .dataframe tbody tr th:only-of-type {\n",
       "        vertical-align: middle;\n",
       "    }\n",
       "\n",
       "    .dataframe tbody tr th {\n",
       "        vertical-align: top;\n",
       "    }\n",
       "\n",
       "    .dataframe thead th {\n",
       "        text-align: right;\n",
       "    }\n",
       "</style>\n",
       "<table border=\"1\" class=\"dataframe\">\n",
       "  <thead>\n",
       "    <tr style=\"text-align: right;\">\n",
       "      <th></th>\n",
       "      <th>video_names</th>\n",
       "      <th>Video_views</th>\n",
       "      <th>upload_date</th>\n",
       "    </tr>\n",
       "  </thead>\n",
       "  <tbody>\n",
       "    <tr>\n",
       "      <th>0</th>\n",
       "      <td>Maar dala viral boys dance|Viral dance|VIRAL b...</td>\n",
       "      <td>1 day ago</td>\n",
       "      <td>1 day ago</td>\n",
       "    </tr>\n",
       "    <tr>\n",
       "      <th>1</th>\n",
       "      <td>#shorts #shortsdance #2022inshorts #dance #nri...</td>\n",
       "      <td>1.4M views</td>\n",
       "      <td>1.4M views</td>\n",
       "    </tr>\n",
       "    <tr>\n",
       "      <th>2</th>\n",
       "      <td>1,2,3..😜 #shorts#shortsdance #tumtec#sitdikova...</td>\n",
       "      <td>2 months ago</td>\n",
       "      <td>2 months ago</td>\n",
       "    </tr>\n",
       "    <tr>\n",
       "      <th>3</th>\n",
       "      <td>sajan ka naam | sapna choudhary | haryanvi son...</td>\n",
       "      <td>63K views</td>\n",
       "      <td>63K views</td>\n",
       "    </tr>\n",
       "    <tr>\n",
       "      <th>4</th>\n",
       "      <td>Laga laga re | salman khan | bollywood song | ...</td>\n",
       "      <td>2 months ago</td>\n",
       "      <td>2 months ago</td>\n",
       "    </tr>\n",
       "    <tr>\n",
       "      <th>5</th>\n",
       "      <td>Jija tu kala main gori ghani | dance performan...</td>\n",
       "      <td>4K views</td>\n",
       "      <td>4K views</td>\n",
       "    </tr>\n",
       "    <tr>\n",
       "      <th>6</th>\n",
       "      <td>Tu Hath Me Hath Jo De Gaya Dance | Ajay Poptro...</td>\n",
       "      <td>7 months ago</td>\n",
       "      <td>7 months ago</td>\n",
       "    </tr>\n",
       "    <tr>\n",
       "      <th>7</th>\n",
       "      <td>ek ladki chahiye khas khas #youtubeshorts #yts...</td>\n",
       "      <td>728K views</td>\n",
       "      <td>728K views</td>\n",
       "    </tr>\n",
       "    <tr>\n",
       "      <th>8</th>\n",
       "      <td>Teri Aakhya Ka Yo Kajal😜🔥 || Haryanvi song dan...</td>\n",
       "      <td>3 weeks ago</td>\n",
       "      <td>3 weeks ago</td>\n",
       "    </tr>\n",
       "    <tr>\n",
       "      <th>9</th>\n",
       "      <td>Patali kamariya mori😘 #shorts #dance #trending...</td>\n",
       "      <td>31K views</td>\n",
       "      <td>31K views</td>\n",
       "    </tr>\n",
       "    <tr>\n",
       "      <th>10</th>\n",
       "      <td>Aaye dhule raja | bollywood song | viral dance...</td>\n",
       "      <td>6 days ago</td>\n",
       "      <td>6 days ago</td>\n",
       "    </tr>\n",
       "    <tr>\n",
       "      <th>11</th>\n",
       "      <td>Thuli Thuli dance shorts video | #shorts #shor...</td>\n",
       "      <td>12M views</td>\n",
       "      <td>12M views</td>\n",
       "    </tr>\n",
       "    <tr>\n",
       "      <th>12</th>\n",
       "      <td>O saki Saki Nora fatehi song dance||#shorts #d...</td>\n",
       "      <td>3 months ago</td>\n",
       "      <td>3 months ago</td>\n",
       "    </tr>\n",
       "    <tr>\n",
       "      <th>13</th>\n",
       "      <td>Teri Lat Lag jagi | Haryanvi Dance | Tarun &amp; N...</td>\n",
       "      <td>25K views</td>\n",
       "      <td>25K views</td>\n",
       "    </tr>\n",
       "  </tbody>\n",
       "</table>\n",
       "</div>"
      ],
      "text/plain": [
       "                                          video_names   Video_views  \\\n",
       "0   Maar dala viral boys dance|Viral dance|VIRAL b...     1 day ago   \n",
       "1   #shorts #shortsdance #2022inshorts #dance #nri...    1.4M views   \n",
       "2   1,2,3..😜 #shorts#shortsdance #tumtec#sitdikova...  2 months ago   \n",
       "3   sajan ka naam | sapna choudhary | haryanvi son...     63K views   \n",
       "4   Laga laga re | salman khan | bollywood song | ...  2 months ago   \n",
       "5   Jija tu kala main gori ghani | dance performan...      4K views   \n",
       "6   Tu Hath Me Hath Jo De Gaya Dance | Ajay Poptro...  7 months ago   \n",
       "7   ek ladki chahiye khas khas #youtubeshorts #yts...    728K views   \n",
       "8   Teri Aakhya Ka Yo Kajal😜🔥 || Haryanvi song dan...   3 weeks ago   \n",
       "9   Patali kamariya mori😘 #shorts #dance #trending...     31K views   \n",
       "10  Aaye dhule raja | bollywood song | viral dance...    6 days ago   \n",
       "11  Thuli Thuli dance shorts video | #shorts #shor...     12M views   \n",
       "12  O saki Saki Nora fatehi song dance||#shorts #d...  3 months ago   \n",
       "13  Teri Lat Lag jagi | Haryanvi Dance | Tarun & N...     25K views   \n",
       "\n",
       "     upload_date  \n",
       "0      1 day ago  \n",
       "1     1.4M views  \n",
       "2   2 months ago  \n",
       "3      63K views  \n",
       "4   2 months ago  \n",
       "5       4K views  \n",
       "6   7 months ago  \n",
       "7     728K views  \n",
       "8    3 weeks ago  \n",
       "9      31K views  \n",
       "10    6 days ago  \n",
       "11     12M views  \n",
       "12  3 months ago  \n",
       "13     25K views  "
      ]
     },
     "execution_count": 466,
     "metadata": {},
     "output_type": "execute_result"
    }
   ],
   "source": [
    "#make a dataframe:\n",
    "data=pd.DataFrame()\n",
    "data['video_names']=video_names\n",
    "data['Video_views']=video_views\n",
    "data['upload_date']=upload_date\n",
    "\n",
    "data"
   ]
  },
  {
   "cell_type": "markdown",
   "id": "961af9a8",
   "metadata": {},
   "source": [
    "# most viewed youtube video:"
   ]
  },
  {
   "cell_type": "code",
   "execution_count": 393,
   "id": "dbc76eed",
   "metadata": {},
   "outputs": [],
   "source": [
    "#let's get connect to the webdriver\n",
    "driver=webdriver.Chrome(r\"C:\\Us ers\\md\\Downloads\\chromedriver_win32(1)\\Chromedriver.exe\")\n",
    "driver.get(\"https://en.wikipedia.org/wiki/List_of_most-viewed_online_videos_in_the_first_24_hours\")                                                                                                                                                                                                                                                                                                                                                                                                                                                                                                                                                                                                                                                                                                                                                                                                                                                                                                                                                                                                                                                                                                                                                                                                                                                                                                     "
   ]
  },
  {
   "cell_type": "code",
   "execution_count": 394,
   "id": "bdc3764b",
   "metadata": {},
   "outputs": [],
   "source": [
    "# make a empty dataframe:\n",
    "video_name= []\n",
    "video_artist = []\n",
    "upload_date = []\n",
    "video_views = []\n",
    "video_rank = []"
   ]
  },
  {
   "cell_type": "code",
   "execution_count": 395,
   "id": "1a8fbaf2",
   "metadata": {},
   "outputs": [],
   "source": [
    "#Scrapping video_name from the given page\n",
    "name_tags=driver.find_elements(By.XPATH,\"//th[@class='headerSort']\")\n",
    "for i in name_tags[1:15]:\n",
    "    name=i.text\n",
    "    video_name.append(name)\n",
    "\n",
    "#Scrapping video_artist from the given page\n",
    "artist_tags=driver.find_elements(By.XPATH,\"//th[@class='headerSort']\")\n",
    "for i in artist_tags[1:15]:\n",
    "    artist=i.text\n",
    "    video_artist.append(artist)\n",
    "    \n",
    "#Scrapping upload_date from the given page\n",
    "date_tags=driver.find_elements(By.XPATH,\"//th[@class='headerSort']\")\n",
    "for i in date_tags[1:15]:\n",
    "    date=i.text\n",
    "    upload_date.append(date)\n",
    "#Scrapping place from the given page\n",
    "views_tags=driver.find_elements(By.XPATH,\"//th[@class='headerSort']\")\n",
    "for i in views_tags[1:15]:\n",
    "    views=i.text\n",
    "    video_views.append(views)  \n",
    "#Scrapping video_rank from the given page\n",
    "rank_tags=driver.find_elements(By.XPATH,\"//th[@class='headerSort']\")\n",
    "for i in rank_tags[1:15]:\n",
    "    rank=i.text\n",
    "    video_rank.append(rank)"
   ]
  },
  {
   "cell_type": "code",
   "execution_count": 396,
   "id": "e156ea96",
   "metadata": {},
   "outputs": [
    {
     "data": {
      "text/plain": [
       "14"
      ]
     },
     "execution_count": 396,
     "metadata": {},
     "output_type": "execute_result"
    }
   ],
   "source": [
    "#checking length:\n",
    "len(video_name)\n",
    "len(video_artist)\n",
    "len(upload_date) \n",
    "len(video_views) \n",
    "len(video_rank)"
   ]
  },
  {
   "cell_type": "code",
   "execution_count": 397,
   "id": "10d292b5",
   "metadata": {},
   "outputs": [
    {
     "name": "stdout",
     "output_type": "stream",
     "text": [
      "['Title', 'Uploader / artist', 'Platform', 'Views[a]\\n(millions)', 'Release date', 'Rank', 'Title', 'Artist', 'Platform', 'Views[a]\\n(millions)', 'Release date', 'Title', 'Artist', 'Views[a]\\n(millions)']\n",
      "['Title', 'Uploader / artist', 'Platform', 'Views[a]\\n(millions)', 'Release date', 'Rank', 'Title', 'Artist', 'Platform', 'Views[a]\\n(millions)', 'Release date', 'Title', 'Artist', 'Views[a]\\n(millions)']\n",
      "['Title', 'Uploader / artist', 'Platform', 'Views[a]\\n(millions)', 'Release date', 'Rank', 'Title', 'Artist', 'Platform', 'Views[a]\\n(millions)', 'Release date', 'Title', 'Artist', 'Views[a]\\n(millions)']\n",
      "['Title', 'Uploader / artist', 'Platform', 'Views[a]\\n(millions)', 'Release date', 'Rank', 'Title', 'Artist', 'Platform', 'Views[a]\\n(millions)', 'Release date', 'Title', 'Artist', 'Views[a]\\n(millions)']\n",
      "['Title', 'Uploader / artist', 'Platform', 'Views[a]\\n(millions)', 'Release date', 'Rank', 'Title', 'Artist', 'Platform', 'Views[a]\\n(millions)', 'Release date', 'Title', 'Artist', 'Views[a]\\n(millions)']\n"
     ]
    }
   ],
   "source": [
    "#checking details: \n",
    "print(video_name)\n",
    "print(video_artist)\n",
    "print(upload_date) \n",
    "print(video_views) \n",
    "print(video_rank)"
   ]
  },
  {
   "cell_type": "code",
   "execution_count": 398,
   "id": "b73f6937",
   "metadata": {},
   "outputs": [
    {
     "data": {
      "text/html": [
       "<div>\n",
       "<style scoped>\n",
       "    .dataframe tbody tr th:only-of-type {\n",
       "        vertical-align: middle;\n",
       "    }\n",
       "\n",
       "    .dataframe tbody tr th {\n",
       "        vertical-align: top;\n",
       "    }\n",
       "\n",
       "    .dataframe thead th {\n",
       "        text-align: right;\n",
       "    }\n",
       "</style>\n",
       "<table border=\"1\" class=\"dataframe\">\n",
       "  <thead>\n",
       "    <tr style=\"text-align: right;\">\n",
       "      <th></th>\n",
       "      <th>Video_name</th>\n",
       "      <th>Video_artist</th>\n",
       "      <th>upload_date</th>\n",
       "      <th>Video_views</th>\n",
       "      <th>video_rank</th>\n",
       "    </tr>\n",
       "  </thead>\n",
       "  <tbody>\n",
       "    <tr>\n",
       "      <th>0</th>\n",
       "      <td>Title</td>\n",
       "      <td>Title</td>\n",
       "      <td>Title</td>\n",
       "      <td>Title</td>\n",
       "      <td>Title</td>\n",
       "    </tr>\n",
       "    <tr>\n",
       "      <th>1</th>\n",
       "      <td>Uploader / artist</td>\n",
       "      <td>Uploader / artist</td>\n",
       "      <td>Uploader / artist</td>\n",
       "      <td>Uploader / artist</td>\n",
       "      <td>Uploader / artist</td>\n",
       "    </tr>\n",
       "    <tr>\n",
       "      <th>2</th>\n",
       "      <td>Platform</td>\n",
       "      <td>Platform</td>\n",
       "      <td>Platform</td>\n",
       "      <td>Platform</td>\n",
       "      <td>Platform</td>\n",
       "    </tr>\n",
       "    <tr>\n",
       "      <th>3</th>\n",
       "      <td>Views[a]\\n(millions)</td>\n",
       "      <td>Views[a]\\n(millions)</td>\n",
       "      <td>Views[a]\\n(millions)</td>\n",
       "      <td>Views[a]\\n(millions)</td>\n",
       "      <td>Views[a]\\n(millions)</td>\n",
       "    </tr>\n",
       "    <tr>\n",
       "      <th>4</th>\n",
       "      <td>Release date</td>\n",
       "      <td>Release date</td>\n",
       "      <td>Release date</td>\n",
       "      <td>Release date</td>\n",
       "      <td>Release date</td>\n",
       "    </tr>\n",
       "    <tr>\n",
       "      <th>5</th>\n",
       "      <td>Rank</td>\n",
       "      <td>Rank</td>\n",
       "      <td>Rank</td>\n",
       "      <td>Rank</td>\n",
       "      <td>Rank</td>\n",
       "    </tr>\n",
       "    <tr>\n",
       "      <th>6</th>\n",
       "      <td>Title</td>\n",
       "      <td>Title</td>\n",
       "      <td>Title</td>\n",
       "      <td>Title</td>\n",
       "      <td>Title</td>\n",
       "    </tr>\n",
       "    <tr>\n",
       "      <th>7</th>\n",
       "      <td>Artist</td>\n",
       "      <td>Artist</td>\n",
       "      <td>Artist</td>\n",
       "      <td>Artist</td>\n",
       "      <td>Artist</td>\n",
       "    </tr>\n",
       "    <tr>\n",
       "      <th>8</th>\n",
       "      <td>Platform</td>\n",
       "      <td>Platform</td>\n",
       "      <td>Platform</td>\n",
       "      <td>Platform</td>\n",
       "      <td>Platform</td>\n",
       "    </tr>\n",
       "    <tr>\n",
       "      <th>9</th>\n",
       "      <td>Views[a]\\n(millions)</td>\n",
       "      <td>Views[a]\\n(millions)</td>\n",
       "      <td>Views[a]\\n(millions)</td>\n",
       "      <td>Views[a]\\n(millions)</td>\n",
       "      <td>Views[a]\\n(millions)</td>\n",
       "    </tr>\n",
       "    <tr>\n",
       "      <th>10</th>\n",
       "      <td>Release date</td>\n",
       "      <td>Release date</td>\n",
       "      <td>Release date</td>\n",
       "      <td>Release date</td>\n",
       "      <td>Release date</td>\n",
       "    </tr>\n",
       "    <tr>\n",
       "      <th>11</th>\n",
       "      <td>Title</td>\n",
       "      <td>Title</td>\n",
       "      <td>Title</td>\n",
       "      <td>Title</td>\n",
       "      <td>Title</td>\n",
       "    </tr>\n",
       "    <tr>\n",
       "      <th>12</th>\n",
       "      <td>Artist</td>\n",
       "      <td>Artist</td>\n",
       "      <td>Artist</td>\n",
       "      <td>Artist</td>\n",
       "      <td>Artist</td>\n",
       "    </tr>\n",
       "    <tr>\n",
       "      <th>13</th>\n",
       "      <td>Views[a]\\n(millions)</td>\n",
       "      <td>Views[a]\\n(millions)</td>\n",
       "      <td>Views[a]\\n(millions)</td>\n",
       "      <td>Views[a]\\n(millions)</td>\n",
       "      <td>Views[a]\\n(millions)</td>\n",
       "    </tr>\n",
       "  </tbody>\n",
       "</table>\n",
       "</div>"
      ],
      "text/plain": [
       "              Video_name          Video_artist           upload_date  \\\n",
       "0                  Title                 Title                 Title   \n",
       "1      Uploader / artist     Uploader / artist     Uploader / artist   \n",
       "2               Platform              Platform              Platform   \n",
       "3   Views[a]\\n(millions)  Views[a]\\n(millions)  Views[a]\\n(millions)   \n",
       "4           Release date          Release date          Release date   \n",
       "5                   Rank                  Rank                  Rank   \n",
       "6                  Title                 Title                 Title   \n",
       "7                 Artist                Artist                Artist   \n",
       "8               Platform              Platform              Platform   \n",
       "9   Views[a]\\n(millions)  Views[a]\\n(millions)  Views[a]\\n(millions)   \n",
       "10          Release date          Release date          Release date   \n",
       "11                 Title                 Title                 Title   \n",
       "12                Artist                Artist                Artist   \n",
       "13  Views[a]\\n(millions)  Views[a]\\n(millions)  Views[a]\\n(millions)   \n",
       "\n",
       "             Video_views            video_rank  \n",
       "0                  Title                 Title  \n",
       "1      Uploader / artist     Uploader / artist  \n",
       "2               Platform              Platform  \n",
       "3   Views[a]\\n(millions)  Views[a]\\n(millions)  \n",
       "4           Release date          Release date  \n",
       "5                   Rank                  Rank  \n",
       "6                  Title                 Title  \n",
       "7                 Artist                Artist  \n",
       "8               Platform              Platform  \n",
       "9   Views[a]\\n(millions)  Views[a]\\n(millions)  \n",
       "10          Release date          Release date  \n",
       "11                 Title                 Title  \n",
       "12                Artist                Artist  \n",
       "13  Views[a]\\n(millions)  Views[a]\\n(millions)  "
      ]
     },
     "execution_count": 398,
     "metadata": {},
     "output_type": "execute_result"
    }
   ],
   "source": [
    "#make a dataframe:\n",
    "data=pd.DataFrame()\n",
    "data['Video_name']=video_name\n",
    "data['Video_artist']=video_artist \n",
    "data['upload_date']=upload_date \n",
    "data['Video_views']=video_views \n",
    "data['video_rank']=video_rank\n",
    "data"
   ]
  },
  {
   "cell_type": "markdown",
   "id": "c5b1794b",
   "metadata": {},
   "source": [
    "# Bageshwar Dham Sarkar youtube channel:(scraping details -name,likes,video_msg,views,upload_date)"
   ]
  },
  {
   "cell_type": "code",
   "execution_count": 324,
   "id": "4d8747f6",
   "metadata": {},
   "outputs": [],
   "source": [
    "#let's get connect to the webdriver\n",
    "driver=webdriver.Chrome(r\"C:\\Us ers\\md\\Downloads\\chromedriver_win32(1)\\Chromedriver.exe\")\n",
    "driver.get(\"https://www.youtube.com/c/bageshwardhamsarkar\")"
   ]
  },
  {
   "cell_type": "code",
   "execution_count": 333,
   "id": "2b7ff0bd",
   "metadata": {},
   "outputs": [],
   "source": [
    "# make a empty dataframe:\n",
    "video_name= []\n",
    "video_msg = []\n",
    "upload_date = []\n",
    "video_views = []\n",
    "video_likes = []"
   ]
  },
  {
   "cell_type": "code",
   "execution_count": 334,
   "id": "60f5a143",
   "metadata": {},
   "outputs": [],
   "source": [
    "#Scrapping video_name from the given page\n",
    "name_tags=driver.find_elements(By.XPATH,\"//a[@class='yt-simple-endpoint style-scope yt-formatted-string']\")\n",
    "for i in name_tags[1:15]:\n",
    "    name=i.text\n",
    "    video_name.append(name)\n",
    "\n",
    "#Scrapping video_artist from the given page\n",
    "msg_tags=driver.find_elements(By.XPATH,\"//span[@class='yt-core-attributed-string yt-core-attributed-string--white-space-pre-wrap']\")\n",
    "for i in msg_tags[1:15]:\n",
    "    msg=i.text\n",
    "    video_msg.append(msg)\n",
    "    \n",
    "#Scrapping upload_date from the given page\n",
    "date_tags=driver.find_elements(By.XPATH,\"//span[@class='inline-metadata-item style-scope ytd-video-meta-block']\")\n",
    "for i in date_tags[1:15]:\n",
    "    date=i.text\n",
    "    upload_date.append(date)\n",
    "#Scrapping place from the given page\n",
    "views_tags=driver.find_elements(By.XPATH,\"//span[@class='inline-metadata-item style-scope ytd-video-meta-block']\")\n",
    "for i in views_tags[1:15]:\n",
    "    views=i.text\n",
    "    video_views.append(views)  \n",
    "#Scrapping video_rank from the given page\n",
    "likes_tags=driver.find_elements(By.XPATH,\"//div[@class='yt-spec-touch-feedback-shape__stroke']\")\n",
    "for i in likes_tags[1:15]:\n",
    "    likes=i.text\n",
    "    video_likes.append(likes)"
   ]
  },
  {
   "cell_type": "code",
   "execution_count": 335,
   "id": "8ecb26e7",
   "metadata": {},
   "outputs": [
    {
     "data": {
      "text/plain": [
       "14"
      ]
     },
     "execution_count": 335,
     "metadata": {},
     "output_type": "execute_result"
    }
   ],
   "source": [
    "#checking length:\n",
    "len(video_name)"
   ]
  },
  {
   "cell_type": "code",
   "execution_count": 399,
   "id": "e486a869",
   "metadata": {},
   "outputs": [
    {
     "data": {
      "text/plain": [
       "2"
      ]
     },
     "execution_count": 399,
     "metadata": {},
     "output_type": "execute_result"
    }
   ],
   "source": [
    "len(video_msg)"
   ]
  },
  {
   "cell_type": "code",
   "execution_count": 400,
   "id": "5cafbe87",
   "metadata": {},
   "outputs": [
    {
     "data": {
      "text/plain": [
       "14"
      ]
     },
     "execution_count": 400,
     "metadata": {},
     "output_type": "execute_result"
    }
   ],
   "source": [
    "len(upload_date)"
   ]
  },
  {
   "cell_type": "code",
   "execution_count": 401,
   "id": "857fbb0e",
   "metadata": {},
   "outputs": [
    {
     "data": {
      "text/plain": [
       "14"
      ]
     },
     "execution_count": 401,
     "metadata": {},
     "output_type": "execute_result"
    }
   ],
   "source": [
    "len(video_views) "
   ]
  },
  {
   "cell_type": "code",
   "execution_count": 402,
   "id": "55ca8eb8",
   "metadata": {},
   "outputs": [
    {
     "data": {
      "text/plain": [
       "14"
      ]
     },
     "execution_count": 402,
     "metadata": {},
     "output_type": "execute_result"
    }
   ],
   "source": [
    "len(video_likes)"
   ]
  },
  {
   "cell_type": "code",
   "execution_count": 336,
   "id": "8513a21d",
   "metadata": {},
   "outputs": [
    {
     "name": "stdout",
     "output_type": "stream",
     "text": [
      "['', '', '', '', '', '', '', '', '', '', '', '', '', '']\n",
      "['शुभ संदेश…पूज्य सरकार द्वारा…\\nपूज्य सरकार का महा दिव्यदरबार और दिव्य दर्शन मुंबई के मीरारोड में होना तय हुआ है आप सभी सादर आमंत्रित है…', '']\n",
      "['', '', '', '', '', '', '', '25M views', '1 month ago', '5.4K watching', '3K watching', '1K watching', '366K views', 'Streamed 2 days ago']\n",
      "['', '', '', '', '', '', '', '25M views', '1 month ago', '5.4K watching', '3K watching', '1K watching', '366K views', 'Streamed 2 days ago']\n",
      "['', '', '', '', '', '', '', '', '', '', '', '', '', '']\n"
     ]
    }
   ],
   "source": [
    "#checking details: \n",
    "print(video_name)\n",
    "print(video_msg)\n",
    "print(upload_date) \n",
    "print(video_views) \n",
    "print(video_likes)"
   ]
  },
  {
   "cell_type": "code",
   "execution_count": 468,
   "id": "c140934f",
   "metadata": {},
   "outputs": [],
   "source": [
    "#make a dataframe:\n",
    "data=pd.DataFrame()\n",
    "data['Video_name']=video_name\n",
    "data['Video_artist']=video_artist \n",
    "data['upload_date']=upload_date \n",
    "data['Video_views']=video_views \n",
    "data['video_rank']=video_rank"
   ]
  },
  {
   "cell_type": "markdown",
   "id": "dde0506b",
   "metadata": {},
   "source": [
    "project completed....."
   ]
  }
 ],
 "metadata": {
  "kernelspec": {
   "display_name": "Python 3 (ipykernel)",
   "language": "python",
   "name": "python3"
  },
  "language_info": {
   "codemirror_mode": {
    "name": "ipython",
    "version": 3
   },
   "file_extension": ".py",
   "mimetype": "text/x-python",
   "name": "python",
   "nbconvert_exporter": "python",
   "pygments_lexer": "ipython3",
   "version": "3.9.13"
  }
 },
 "nbformat": 4,
 "nbformat_minor": 5
}
